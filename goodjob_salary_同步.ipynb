{
 "cells": [
  {
   "attachments": {},
   "cell_type": "markdown",
   "metadata": {},
   "source": [
    "# 總共 457 頁，2023/8/7 爬取，共 22845 篇"
   ]
  },
  {
   "cell_type": "code",
   "execution_count": 1,
   "metadata": {},
   "outputs": [
    {
     "name": "stderr",
     "output_type": "stream",
     "text": [
      "100%|██████████| 457/457 [09:22<00:00,  1.23s/it]\n"
     ]
    },
    {
     "name": "stdout",
     "output_type": "stream",
     "text": [
      "Data saved to goodjob_salary.xlsx\n"
     ]
    }
   ],
   "source": [
    "import requests\n",
    "from bs4 import BeautifulSoup\n",
    "from tqdm import tqdm\n",
    "import pandas as pd\n",
    "\n",
    "# Create an empty list to store the scraped data\n",
    "data = []\n",
    "pages = 457\n",
    "\n",
    "# Loop through the desired page range\n",
    "for page in tqdm(range(1, pages+1)):\n",
    "    # Specify the URL of the page to scrape\n",
    "    url = f\"https://www.goodjob.life/salary-work-times/latest?p={page}\"\n",
    "\n",
    "    # Send a GET request to the URL and store the response\n",
    "    response = requests.get(url)\n",
    "\n",
    "    # Parse the HTML content of the response using BeautifulSoup\n",
    "    soup = BeautifulSoup(response.content, \"html.parser\")\n",
    "\n",
    "    # Find the table element containing the data\n",
    "    table = soup.find(\"table\")\n",
    "\n",
    "    # Find the rows of the table\n",
    "    rows = table.find_all(\"tr\")\n",
    "\n",
    "    # Loop through the rows and extract the data\n",
    "    for row in rows[1:]:\n",
    "        # Extract the columns of the row\n",
    "        columns = row.find_all(\"td\")\n",
    "\n",
    "        # Extract the data from the columns\n",
    "        company = columns[0].text.strip()\n",
    "        job_title = columns[1].text.strip()\n",
    "        work_time = columns[2].text.strip()\n",
    "        overtime = columns[3].text.strip()\n",
    "        salary = columns[4].text.strip()\n",
    "        wage = columns[5].text.strip()\n",
    "        time = columns[6].text.strip()\n",
    "\n",
    "        # Append the data to the list\n",
    "        data.append({\n",
    "            \"公司名稱\": company,\n",
    "            \"職稱\": job_title,\n",
    "            \"週工時\": work_time,\n",
    "            \"加班頻率\": overtime,\n",
    "            \"薪資\": salary,\n",
    "            \"時薪\": wage,\n",
    "            \"參考時間\": time\n",
    "        })\n",
    "\n",
    "# Create a DataFrame from the collected data\n",
    "data_df = pd.DataFrame(data)\n",
    "\n",
    "# Save the DataFrame\n",
    "data_df.to_excel(\"goodjob_salary.xlsx\", index=False)\n",
    "print(\"Data saved to goodjob_salary.xlsx\")\n",
    "\n",
    "# 須爬取9分半"
   ]
  }
 ],
 "metadata": {
  "kernelspec": {
   "display_name": "base",
   "language": "python",
   "name": "python3"
  },
  "language_info": {
   "codemirror_mode": {
    "name": "ipython",
    "version": 3
   },
   "file_extension": ".py",
   "mimetype": "text/x-python",
   "name": "python",
   "nbconvert_exporter": "python",
   "pygments_lexer": "ipython3",
   "version": "3.9.7"
  },
  "orig_nbformat": 4
 },
 "nbformat": 4,
 "nbformat_minor": 2
}
