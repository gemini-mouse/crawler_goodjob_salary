{
 "cells": [
  {
   "attachments": {},
   "cell_type": "markdown",
   "metadata": {},
   "source": [
    "# 總共 457 頁，2023/8/7 爬取，共 22845 篇"
   ]
  },
  {
   "cell_type": "code",
   "execution_count": 1,
   "metadata": {},
   "outputs": [
    {
     "name": "stderr",
     "output_type": "stream",
     "text": [
      "100%|██████████| 457/457 [09:22<00:00,  1.23s/it]\n"
     ]
    },
    {
     "name": "stdout",
     "output_type": "stream",
     "text": [
      "Data saved to goodjob_salary.xlsx\n"
     ]
    }
   ],
   "source": [
    "import requests\n",
    "from bs4 import BeautifulSoup\n",
    "from tqdm import tqdm\n",
    "import pandas as pd\n",
    "\n",
    "# Create an empty list to store the scraped data\n",
    "data = []\n",
    "pages = 457\n",
    "\n",
    "# Loop through the desired page range\n",
    "for page in tqdm(range(1, pages+1)):\n",
    "    # Specify the URL of the page to scrape\n",
    "    url = f\"https://www.goodjob.life/salary-work-times/latest?p={page}\"\n",
    "\n",
    "    # Send a GET request to the URL and store the response\n",
    "    response = requests.get(url)\n",
    "\n",
    "    # Parse the HTML content of the response using BeautifulSoup\n",
    "    soup = BeautifulSoup(response.content, \"html.parser\")\n",
    "\n",
    "    # Find the table element containing the data\n",
    "    table = soup.find(\"table\")\n",
    "\n",
    "    # Find the rows of the table\n",
    "    rows = table.find_all(\"tr\")\n",
    "\n",
    "    # Loop through the rows and extract the data\n",
    "    for row in rows[1:]:\n",
    "        # Extract the columns of the row\n",
    "        columns = row.find_all(\"td\")\n",
    "\n",
    "        # Extract the data from the columns\n",
    "        company = columns[0].text.strip()\n",
    "        job_title = columns[1].text.strip()\n",
    "        work_time = columns[2].text.strip()\n",
    "        overtime = columns[3].text.strip()\n",
    "        salary = columns[4].text.strip()\n",
    "        wage = columns[5].text.strip()\n",
    "        time = columns[6].text.strip()\n",
    "\n",
    "        # Append the data to the list\n",
    "        data.append({\n",
    "            \"公司名稱\": company,\n",
    "            \"職稱\": job_title,\n",
    "            \"週工時\": work_time,\n",
    "            \"加班頻率\": overtime,\n",
    "            \"薪資\": salary,\n",
    "            \"時薪\": wage,\n",
    "            \"參考時間\": time\n",
    "        })\n",
    "\n",
    "# Create a DataFrame from the collected data\n",
    "data_df = pd.DataFrame(data)\n",
    "\n",
    "# Save the DataFrame\n",
    "data_df.to_excel(\"goodjob_salary.xlsx\", index=False)\n",
    "print(\"Data saved to goodjob_salary.xlsx\")\n",
    "\n",
    "# 須爬取9分半"
   ]
  },
  {
   "cell_type": "code",
   "execution_count": 2,
   "metadata": {},
   "outputs": [
    {
     "data": {
      "text/plain": [
       "DoneAndNotDoneFutures(done={<Future at 0x22f2b018040 state=finished returned NoneType>, <Future at 0x22f2e0d0040 state=finished returned NoneType>, <Future at 0x22f2c3e00d0 state=finished returned NoneType>, <Future at 0x22f2ca88100 state=finished returned NoneType>, <Future at 0x22f2b018160 state=finished returned NoneType>, <Future at 0x22f2e0d0160 state=finished returned NoneType>, <Future at 0x22f2c3e01c0 state=finished returned NoneType>, <Future at 0x22f2ca881f0 state=finished returned NoneType>, <Future at 0x22f2b018280 state=finished returned NoneType>, <Future at 0x22f2e0d0280 state=finished returned NoneType>, <Future at 0x22f2c3e02b0 state=finished returned NoneType>, <Future at 0x22f2ca882e0 state=finished returned NoneType>, <Future at 0x22f2af30370 state=finished returned NoneType>, <Future at 0x22f2c3e03a0 state=finished returned NoneType>, <Future at 0x22f2b0183a0 state=finished returned NoneType>, <Future at 0x22f2e0d03a0 state=finished returned NoneType>, <Future at 0x22f2ca883d0 state=finished returned NoneType>, <Future at 0x22f2c3e0490 state=finished returned NoneType>, <Future at 0x22f2ca884c0 state=finished returned NoneType>, <Future at 0x22f2b0184c0 state=finished returned NoneType>, <Future at 0x22f2e0d04c0 state=finished returned NoneType>, <Future at 0x22f2c3e0580 state=finished returned NoneType>, <Future at 0x22f2ca885b0 state=finished returned NoneType>, <Future at 0x22f2b0185e0 state=finished returned NoneType>, <Future at 0x22f2e0d05e0 state=finished returned NoneType>, <Future at 0x22f2c3e0670 state=finished returned NoneType>, <Future at 0x22f2af306a0 state=finished returned NoneType>, <Future at 0x22f2ca886a0 state=finished returned NoneType>, <Future at 0x22f2b018700 state=finished returned NoneType>, <Future at 0x22f2e0d0700 state=finished returned NoneType>, <Future at 0x22f2c3e0760 state=finished returned NoneType>, <Future at 0x22f2ca88790 state=finished returned NoneType>, <Future at 0x22f2b018820 state=finished returned NoneType>, <Future at 0x22f2e0d0820 state=finished returned NoneType>, <Future at 0x22f2c3e0850 state=finished returned NoneType>, <Future at 0x22f2ca88880 state=finished returned NoneType>, <Future at 0x22f2c3e0940 state=finished returned NoneType>, <Future at 0x22f2b018940 state=finished returned NoneType>, <Future at 0x22f2e0d0940 state=finished returned NoneType>, <Future at 0x22f2ca88970 state=finished returned NoneType>, <Future at 0x22f2c3e0a30 state=finished returned NoneType>, <Future at 0x22f2ca88a60 state=finished returned NoneType>, <Future at 0x22f2b018a60 state=finished returned NoneType>, <Future at 0x22f2e0d0a60 state=finished returned NoneType>, <Future at 0x22f2c3e0b20 state=finished returned NoneType>, <Future at 0x22f2ca88b50 state=finished returned NoneType>, <Future at 0x22f2b018b80 state=finished returned NoneType>, <Future at 0x22f2e0d0b80 state=finished returned NoneType>, <Future at 0x22f2c3e0c10 state=finished returned NoneType>, <Future at 0x22f2ca88c40 state=finished returned NoneType>, <Future at 0x22f2b018ca0 state=finished returned NoneType>, <Future at 0x22f2e0d0ca0 state=finished returned NoneType>, <Future at 0x22f2c3e0d00 state=finished returned NoneType>, <Future at 0x22f2ca88d30 state=finished returned NoneType>, <Future at 0x22f2b018dc0 state=finished returned NoneType>, <Future at 0x22f2e0d0dc0 state=finished returned NoneType>, <Future at 0x22f2c3e0df0 state=finished returned NoneType>, <Future at 0x22f2ca88e20 state=finished returned NoneType>, <Future at 0x22f2e040eb0 state=finished returned NoneType>, <Future at 0x22f2c3e0ee0 state=finished returned NoneType>, <Future at 0x22f2b018ee0 state=finished returned NoneType>, <Future at 0x22f2e0d0ee0 state=finished returned NoneType>, <Future at 0x22f2ca88f10 state=finished returned NoneType>, <Future at 0x22f2c3e0fd0 state=finished returned NoneType>, <Future at 0x22f2cbd1040 state=finished returned NoneType>, <Future at 0x22f2b169040 state=finished returned NoneType>, <Future at 0x22f2cd29040 state=finished returned NoneType>, <Future at 0x22f2cbd90d0 state=finished returned NoneType>, <Future at 0x22f2cbd1130 state=finished returned NoneType>, <Future at 0x22f2b169130 state=finished returned NoneType>, <Future at 0x22f2cd29160 state=finished returned NoneType>, <Future at 0x22f2cbd91c0 state=finished returned NoneType>, <Future at 0x22f2cbd1220 state=finished returned NoneType>, <Future at 0x22f2b169220 state=finished returned NoneType>, <Future at 0x22f2cd29280 state=finished returned NoneType>, <Future at 0x22f2cbd92b0 state=finished returned NoneType>, <Future at 0x22f2cbd1310 state=finished returned NoneType>, <Future at 0x22f2b169310 state=finished returned NoneType>, <Future at 0x22f2cbd93a0 state=finished returned NoneType>, <Future at 0x22f2cd293a0 state=finished returned NoneType>, <Future at 0x22f2cbd1400 state=finished returned NoneType>, <Future at 0x22f2b169400 state=finished returned NoneType>, <Future at 0x22f2ca81430 state=finished returned NoneType>, <Future at 0x22f2cbd9490 state=finished returned NoneType>, <Future at 0x22f2cd294c0 state=finished returned NoneType>, <Future at 0x22f2cbd14f0 state=finished returned NoneType>, <Future at 0x22f2b1694f0 state=finished returned NoneType>, <Future at 0x22f2cbd9580 state=finished returned NoneType>, <Future at 0x22f2e0e15b0 state=finished returned NoneType>, <Future at 0x22f2ca815e0 state=finished returned NoneType>, <Future at 0x22f2cbd15e0 state=finished returned NoneType>, <Future at 0x22f2b1695e0 state=finished returned NoneType>, <Future at 0x22f2cd295e0 state=finished returned NoneType>, <Future at 0x22f2cbd9670 state=finished returned NoneType>, <Future at 0x22f2cbd16d0 state=finished returned NoneType>, <Future at 0x22f2b1696d0 state=finished returned NoneType>, <Future at 0x22f2ca81700 state=finished returned NoneType>, <Future at 0x22f2cd29700 state=finished returned NoneType>, <Future at 0x22f2cbd9760 state=finished returned NoneType>, <Future at 0x22f2cbd17c0 state=finished returned NoneType>, <Future at 0x22f2b1697c0 state=finished returned NoneType>, <Future at 0x22f2ca81820 state=finished returned NoneType>, <Future at 0x22f2cd29820 state=finished returned NoneType>, <Future at 0x22f2cbd9850 state=finished returned NoneType>, <Future at 0x22f2cbd18b0 state=finished returned NoneType>, <Future at 0x22f2b1698b0 state=finished returned NoneType>, <Future at 0x22f2ca81940 state=finished returned NoneType>, <Future at 0x22f2cbd9940 state=finished returned NoneType>, <Future at 0x22f2cd29940 state=finished returned NoneType>, <Future at 0x22f2cbd19a0 state=finished returned NoneType>, <Future at 0x22f2b1699a0 state=finished returned NoneType>, <Future at 0x22f2cbd9a30 state=finished returned NoneType>, <Future at 0x22f2ca81a60 state=finished returned NoneType>, <Future at 0x22f2cd29a60 state=finished returned NoneType>, <Future at 0x22f2cbd1a90 state=finished returned NoneType>, <Future at 0x22f2b169a90 state=finished returned NoneType>, <Future at 0x22f2cbd9b20 state=finished returned NoneType>, <Future at 0x22f2ca81b80 state=finished returned NoneType>, <Future at 0x22f2cbd1b80 state=finished returned NoneType>, <Future at 0x22f2b169b80 state=finished returned NoneType>, <Future at 0x22f2cd29b80 state=finished returned NoneType>, <Future at 0x22f2cbd9c10 state=finished returned NoneType>, <Future at 0x22f2cbd1c70 state=finished returned NoneType>, <Future at 0x22f2b169c70 state=finished returned NoneType>, <Future at 0x22f2ca81ca0 state=finished returned NoneType>, <Future at 0x22f2cd29ca0 state=finished returned NoneType>, <Future at 0x22f2cbd9d00 state=finished returned NoneType>, <Future at 0x22f29429d30 state=finished returned NoneType>, <Future at 0x22f2cbd1d60 state=finished returned NoneType>, <Future at 0x22f2b169d60 state=finished returned NoneType>, <Future at 0x22f2ca81dc0 state=finished returned NoneType>, <Future at 0x22f2cd29dc0 state=finished returned NoneType>, <Future at 0x22f2cbd9df0 state=finished returned NoneType>, <Future at 0x22f2cbd1e50 state=finished returned NoneType>, <Future at 0x22f2b169e50 state=finished returned NoneType>, <Future at 0x22f2cbd9ee0 state=finished returned NoneType>, <Future at 0x22f2cd29ee0 state=finished returned NoneType>, <Future at 0x22f2e0e1f10 state=finished returned NoneType>, <Future at 0x22f2ca81f10 state=finished returned NoneType>, <Future at 0x22f2cbd1f40 state=finished returned NoneType>, <Future at 0x22f2b169f40 state=finished returned NoneType>, <Future at 0x22f2cbd9fd0 state=finished returned NoneType>, <Future at 0x22f2c28a040 state=finished returned NoneType>, <Future at 0x22f2cbd2070 state=finished returned NoneType>, <Future at 0x22f2cbd2160 state=finished returned NoneType>, <Future at 0x22f2c28a160 state=finished returned NoneType>, <Future at 0x22f2ca32250 state=finished returned NoneType>, <Future at 0x22f2cbd2250 state=finished returned NoneType>, <Future at 0x22f2c28a280 state=finished returned NoneType>, <Future at 0x22f2cbd2340 state=finished returned NoneType>, <Future at 0x22f2c28a3a0 state=finished returned NoneType>, <Future at 0x22f2cbd2430 state=finished returned NoneType>, <Future at 0x22f2c28a4c0 state=finished returned NoneType>, <Future at 0x22f2cbd2520 state=finished returned NoneType>, <Future at 0x22f2c28a5e0 state=finished returned NoneType>, <Future at 0x22f2cbd2610 state=finished returned NoneType>, <Future at 0x22f2cbd2700 state=finished returned NoneType>, <Future at 0x22f2c28a700 state=finished returned NoneType>, <Future at 0x22f2cbd27f0 state=finished returned NoneType>, <Future at 0x22f2c28a820 state=finished returned NoneType>, <Future at 0x22f2ca328e0 state=finished returned NoneType>, <Future at 0x22f2cbd28e0 state=finished returned NoneType>, <Future at 0x22f2c28a940 state=finished returned NoneType>, <Future at 0x22f2cbd29d0 state=finished returned NoneType>, <Future at 0x22f2c28aa60 state=finished returned NoneType>, <Future at 0x22f2cbd2ac0 state=finished returned NoneType>, <Future at 0x22f2c932b50 state=finished returned NoneType>, <Future at 0x22f2e07ab80 state=finished returned NoneType>, <Future at 0x22f2c28ab80 state=finished returned NoneType>, <Future at 0x22f2cbd2bb0 state=finished returned NoneType>, <Future at 0x22f2cbd2ca0 state=finished returned NoneType>, <Future at 0x22f2c28aca0 state=finished returned NoneType>, <Future at 0x22f2cbd2d90 state=finished returned NoneType>, <Future at 0x22f2c28adc0 state=finished returned NoneType>, <Future at 0x22f2c532e80 state=finished returned NoneType>, <Future at 0x22f2ca32e80 state=finished returned NoneType>, <Future at 0x22f2cbd2e80 state=finished returned NoneType>, <Future at 0x22f2c28aee0 state=finished returned NoneType>, <Future at 0x22f2cbd2f70 state=finished returned NoneType>, <Future at 0x22f2e0f3040 state=finished returned NoneType>, <Future at 0x22f2b16b070 state=finished returned NoneType>, <Future at 0x22f2c3e3100 state=finished returned NoneType>, <Future at 0x22f2b16b160 state=finished returned NoneType>, <Future at 0x22f2e0f3160 state=finished returned NoneType>, <Future at 0x22f2c3e31f0 state=finished returned NoneType>, <Future at 0x22f2b16b250 state=finished returned NoneType>, <Future at 0x22f2e0f3280 state=finished returned NoneType>, <Future at 0x22f2c3e32e0 state=finished returned NoneType>, <Future at 0x22f2b16b340 state=finished returned NoneType>, <Future at 0x22f2e0f33a0 state=finished returned NoneType>, <Future at 0x22f2c3e33d0 state=finished returned NoneType>, <Future at 0x22f2b16b430 state=finished returned NoneType>, <Future at 0x22f2c3e34c0 state=finished returned NoneType>, <Future at 0x22f2e0f34c0 state=finished returned NoneType>, <Future at 0x22f2b16b520 state=finished returned NoneType>, <Future at 0x22f2c3e35b0 state=finished returned NoneType>, <Future at 0x22f2e0f35e0 state=finished returned NoneType>, <Future at 0x22f2b16b610 state=finished returned NoneType>, <Future at 0x22f2c3e36a0 state=finished returned NoneType>, <Future at 0x22f2b16b700 state=finished returned NoneType>, <Future at 0x22f2e0f3700 state=finished returned NoneType>, <Future at 0x22f2c3e3790 state=finished returned NoneType>, <Future at 0x22f2b16b7f0 state=finished returned NoneType>, <Future at 0x22f2e0f3820 state=finished returned NoneType>, <Future at 0x22f2c3e3880 state=finished returned NoneType>, <Future at 0x22f2b16b8e0 state=finished returned NoneType>, <Future at 0x22f2e0f3940 state=finished returned NoneType>, <Future at 0x22f2c3e3970 state=finished returned NoneType>, <Future at 0x22f2b16b9d0 state=finished returned NoneType>, <Future at 0x22f2c3e3a60 state=finished returned NoneType>, <Future at 0x22f2e0f3a60 state=finished returned NoneType>, <Future at 0x22f2b16bac0 state=finished returned NoneType>, <Future at 0x22f2c3e3b50 state=finished returned NoneType>, <Future at 0x22f2e0f3b80 state=finished returned NoneType>, <Future at 0x22f2b16bbb0 state=finished returned NoneType>, <Future at 0x22f2c3e3c40 state=finished returned NoneType>, <Future at 0x22f2b16bca0 state=finished returned NoneType>, <Future at 0x22f2e0f3ca0 state=finished returned NoneType>, <Future at 0x22f2c3e3d30 state=finished returned NoneType>, <Future at 0x22f2b16bd90 state=finished returned NoneType>, <Future at 0x22f2e0f3dc0 state=finished returned NoneType>, <Future at 0x22f2c3e3e20 state=finished returned NoneType>, <Future at 0x22f2b16be80 state=finished returned NoneType>, <Future at 0x22f2e0f3ee0 state=finished raised AttributeError>, <Future at 0x22f2c3e3f10 state=finished returned NoneType>, <Future at 0x22f2b16bf70 state=finished returned NoneType>, <Future at 0x22f2e08c040 state=finished returned NoneType>, <Future at 0x22f2c7dc040 state=finished raised AttributeError>, <Future at 0x22f2b014040 state=finished returned NoneType>, <Future at 0x22f2e044070 state=finished returned NoneType>, <Future at 0x22f2c284040 state=finished returned NoneType>, <Future at 0x22f2c3dc0a0 state=finished returned NoneType>, <Future at 0x22f2e08c130 state=finished returned NoneType>, <Future at 0x22f2e044160 state=finished returned NoneType>, <Future at 0x22f2c7dc160 state=finished returned NoneType>, <Future at 0x22f2b014160 state=finished returned NoneType>, <Future at 0x22f2c3dc190 state=finished returned NoneType>, <Future at 0x22f2c284160 state=finished returned NoneType>, <Future at 0x22f2e08c220 state=finished returned NoneType>, <Future at 0x22f2e044250 state=finished returned NoneType>, <Future at 0x22f2c3dc280 state=finished returned NoneType>, <Future at 0x22f2c7dc280 state=finished returned NoneType>, <Future at 0x22f2b014280 state=finished returned NoneType>, <Future at 0x22f2c284280 state=finished returned NoneType>, <Future at 0x22f2e08c310 state=finished returned NoneType>, <Future at 0x22f2e044340 state=finished returned NoneType>, <Future at 0x22f2c3dc370 state=finished returned NoneType>, <Future at 0x22f2c7dc3a0 state=finished returned NoneType>, <Future at 0x22f2b0143a0 state=finished returned NoneType>, <Future at 0x22f2c2843a0 state=finished returned NoneType>, <Future at 0x22f2e08c400 state=finished returned NoneType>, <Future at 0x22f2e044430 state=finished returned NoneType>, <Future at 0x22f2c3dc460 state=finished returned NoneType>, <Future at 0x22f2c7dc4c0 state=finished returned NoneType>, <Future at 0x22f2b0144c0 state=finished returned NoneType>, <Future at 0x22f2c2844c0 state=finished returned NoneType>, <Future at 0x22f2e08c4f0 state=finished returned NoneType>, <Future at 0x22f2e044520 state=finished returned NoneType>, <Future at 0x22f2c3dc550 state=finished returned NoneType>, <Future at 0x22f2e08c5e0 state=finished returned NoneType>, <Future at 0x22f2c7dc5e0 state=finished returned NoneType>, <Future at 0x22f2b0145e0 state=finished returned NoneType>, <Future at 0x22f2e044610 state=finished returned NoneType>, <Future at 0x22f2c2845e0 state=finished returned NoneType>, <Future at 0x22f2c3dc640 state=finished returned NoneType>, <Future at 0x22f2e08c6d0 state=finished returned NoneType>, <Future at 0x22f2e044700 state=finished returned NoneType>, <Future at 0x22f2c7dc700 state=finished returned NoneType>, <Future at 0x22f2b014700 state=finished returned NoneType>, <Future at 0x22f2c3dc730 state=finished returned NoneType>, <Future at 0x22f2c284700 state=finished returned NoneType>, <Future at 0x22f2e08c7c0 state=finished returned NoneType>, <Future at 0x22f2e0447f0 state=finished returned NoneType>, <Future at 0x22f2c3dc820 state=finished returned NoneType>, <Future at 0x22f2c7dc820 state=finished returned NoneType>, <Future at 0x22f2b014820 state=finished returned NoneType>, <Future at 0x22f2c284820 state=finished returned NoneType>, <Future at 0x22f2e08c8b0 state=finished returned NoneType>, <Future at 0x22f2e0448e0 state=finished returned NoneType>, <Future at 0x22f2c3dc910 state=finished returned NoneType>, <Future at 0x22f2c7dc940 state=finished returned NoneType>, <Future at 0x22f2b014940 state=finished returned NoneType>, <Future at 0x22f2c284940 state=finished returned NoneType>, <Future at 0x22f2e08c9a0 state=finished returned NoneType>, <Future at 0x22f2e0449d0 state=finished returned NoneType>, <Future at 0x22f2c3dca00 state=finished returned NoneType>, <Future at 0x22f2c7dca60 state=finished returned NoneType>, <Future at 0x22f2b014a60 state=finished returned NoneType>, <Future at 0x22f2c284a60 state=finished returned NoneType>, <Future at 0x22f2e08ca90 state=finished returned NoneType>, <Future at 0x22f2e044ac0 state=finished returned NoneType>, <Future at 0x22f2c3dcaf0 state=finished returned NoneType>, <Future at 0x22f2e08cb80 state=finished returned NoneType>, <Future at 0x22f2c7dcb80 state=finished returned NoneType>, <Future at 0x22f2b014b80 state=finished returned NoneType>, <Future at 0x22f2e044bb0 state=finished returned NoneType>, <Future at 0x22f2c284b80 state=finished returned NoneType>, <Future at 0x22f2c3dcbe0 state=finished returned NoneType>, <Future at 0x22f2e08cc70 state=finished returned NoneType>, <Future at 0x22f2e044ca0 state=finished returned NoneType>, <Future at 0x22f2c7dcca0 state=finished returned NoneType>, <Future at 0x22f2b014ca0 state=finished returned NoneType>, <Future at 0x22f2c3dccd0 state=finished returned NoneType>, <Future at 0x22f2c284ca0 state=finished returned NoneType>, <Future at 0x22f2e08cd60 state=finished returned NoneType>, <Future at 0x22f2e044d90 state=finished returned NoneType>, <Future at 0x22f2c3dcdc0 state=finished returned NoneType>, <Future at 0x22f2c7dcdc0 state=finished returned NoneType>, <Future at 0x22f2b014dc0 state=finished returned NoneType>, <Future at 0x22f2c284dc0 state=finished returned NoneType>, <Future at 0x22f2e08ce50 state=finished returned NoneType>, <Future at 0x22f2e044e80 state=finished returned NoneType>, <Future at 0x22f2c3dceb0 state=finished returned NoneType>, <Future at 0x22f2c7dcee0 state=finished returned NoneType>, <Future at 0x22f2b014ee0 state=finished returned NoneType>, <Future at 0x22f2c284ee0 state=finished returned NoneType>, <Future at 0x22f2e08cf40 state=finished returned NoneType>, <Future at 0x22f2e044f70 state=finished returned NoneType>, <Future at 0x22f2c3dcfa0 state=finished returned NoneType>, <Future at 0x22f2cd2d040 state=finished returned NoneType>, <Future at 0x22f2ca850a0 state=finished returned NoneType>, <Future at 0x22f2cd2d160 state=finished returned NoneType>, <Future at 0x22f2ca85190 state=finished returned NoneType>, <Future at 0x22f2ca85280 state=finished returned NoneType>, <Future at 0x22f2cd2d280 state=finished returned NoneType>, <Future at 0x22f2ca85370 state=finished returned NoneType>, <Future at 0x22f2cd2d3a0 state=finished returned NoneType>, <Future at 0x22f2ca85460 state=finished returned NoneType>, <Future at 0x22f2cd2d4c0 state=finished returned NoneType>, <Future at 0x22f2ca85550 state=finished returned NoneType>, <Future at 0x22f2cd2d5e0 state=finished returned NoneType>, <Future at 0x22f2ca85640 state=finished returned NoneType>, <Future at 0x22f2cd2d700 state=finished returned NoneType>, <Future at 0x22f2ca85730 state=finished returned NoneType>, <Future at 0x22f2ca85820 state=finished returned NoneType>, <Future at 0x22f2cd2d820 state=finished returned NoneType>, <Future at 0x22f2ca85910 state=finished returned NoneType>, <Future at 0x22f2cd2d940 state=finished returned NoneType>, <Future at 0x22f2ca85a00 state=finished returned NoneType>, <Future at 0x22f29425a60 state=finished returned NoneType>, <Future at 0x22f2cd2da60 state=finished returned NoneType>, <Future at 0x22f2ca85af0 state=finished returned NoneType>, <Future at 0x22f2cd2db80 state=finished returned NoneType>, <Future at 0x22f2ca85be0 state=finished returned NoneType>, <Future at 0x22f2cd2dca0 state=finished returned NoneType>, <Future at 0x22f2ca85cd0 state=finished returned NoneType>, <Future at 0x22f2ca85dc0 state=finished returned NoneType>, <Future at 0x22f2cd2ddc0 state=finished returned NoneType>, <Future at 0x22f2ae6ddf0 state=finished returned NoneType>, <Future at 0x22f2ca85eb0 state=finished returned NoneType>, <Future at 0x22f2cd2dee0 state=finished returned NoneType>, <Future at 0x22f2ca85fa0 state=finished returned NoneType>, <Future at 0x22f2c686040 state=finished returned NoneType>, <Future at 0x22f2b00e040 state=finished returned NoneType>, <Future at 0x22f2cbd60a0 state=finished returned NoneType>, <Future at 0x22f2ca860d0 state=finished returned NoneType>, <Future at 0x22f2c686130 state=finished returned NoneType>, <Future at 0x22f2b00e160 state=finished returned NoneType>, <Future at 0x22f2cbd6190 state=finished returned NoneType>, <Future at 0x22f2ca861c0 state=finished returned NoneType>, <Future at 0x22f2e0ce1f0 state=finished returned NoneType>, <Future at 0x22f2c686220 state=finished returned NoneType>, <Future at 0x22f2cbd6280 state=finished returned NoneType>, <Future at 0x22f2b00e280 state=finished returned NoneType>, <Future at 0x22f2ca862b0 state=finished returned NoneType>, <Future at 0x22f2c686310 state=finished returned NoneType>, <Future at 0x22f2cbd6370 state=finished returned NoneType>, <Future at 0x22f2ca863a0 state=finished returned NoneType>, <Future at 0x22f2b00e3a0 state=finished returned NoneType>, <Future at 0x22f2c686400 state=finished returned NoneType>, <Future at 0x22f2cbd6460 state=finished returned NoneType>, <Future at 0x22f2ca86490 state=finished returned NoneType>, <Future at 0x22f2b00e4c0 state=finished returned NoneType>, <Future at 0x22f2c6864f0 state=finished returned NoneType>, <Future at 0x22f2cbd6550 state=finished returned NoneType>, <Future at 0x22f2ca86580 state=finished returned NoneType>, <Future at 0x22f294265b0 state=finished returned NoneType>, <Future at 0x22f2c6865e0 state=finished returned NoneType>, <Future at 0x22f2b00e5e0 state=finished returned NoneType>, <Future at 0x22f2cbd6640 state=finished returned NoneType>, <Future at 0x22f2ca86670 state=finished returned NoneType>, <Future at 0x22f2c6866d0 state=finished returned NoneType>, <Future at 0x22f2b00e700 state=finished returned NoneType>, <Future at 0x22f2cbd6730 state=finished returned NoneType>, <Future at 0x22f2ca86760 state=finished returned NoneType>, <Future at 0x22f2c6867c0 state=finished returned NoneType>, <Future at 0x22f2cbd6820 state=finished returned NoneType>, <Future at 0x22f2b00e820 state=finished returned NoneType>, <Future at 0x22f2ca86850 state=finished returned NoneType>, <Future at 0x22f2c6868b0 state=finished returned NoneType>, <Future at 0x22f2cbd6910 state=finished returned NoneType>, <Future at 0x22f2ca86940 state=finished returned NoneType>, <Future at 0x22f2b00e940 state=finished returned NoneType>, <Future at 0x22f2c6869a0 state=finished returned NoneType>, <Future at 0x22f2cbd6a00 state=finished returned NoneType>, <Future at 0x22f2ca86a30 state=finished returned NoneType>, <Future at 0x22f2b00ea60 state=finished returned NoneType>, <Future at 0x22f2c686a90 state=finished returned NoneType>, <Future at 0x22f2cbd6af0 state=finished returned NoneType>, <Future at 0x22f2ca86b20 state=finished returned NoneType>, <Future at 0x22f2c686b80 state=finished returned NoneType>, <Future at 0x22f2b00eb80 state=finished returned NoneType>, <Future at 0x22f2cbd6be0 state=finished returned NoneType>, <Future at 0x22f2ca86c10 state=finished returned NoneType>, <Future at 0x22f2c686ca0 state=finished returned NoneType>, <Future at 0x22f2b00eca0 state=finished returned NoneType>, <Future at 0x22f2cbd6cd0 state=finished returned NoneType>, <Future at 0x22f2ca86d00 state=finished returned NoneType>, <Future at 0x22f2cbd6dc0 state=finished returned NoneType>, <Future at 0x22f2c686dc0 state=finished returned NoneType>, <Future at 0x22f2b00edc0 state=finished returned NoneType>, <Future at 0x22f2ca86df0 state=finished returned NoneType>, <Future at 0x22f2cbd6eb0 state=finished returned NoneType>, <Future at 0x22f2ca86ee0 state=finished returned NoneType>, <Future at 0x22f2c686ee0 state=finished returned NoneType>, <Future at 0x22f2b00eee0 state=finished returned NoneType>, <Future at 0x22f2cbd6fa0 state=finished returned NoneType>, <Future at 0x22f2ca86fd0 state=finished returned NoneType>, <Future at 0x22f2c7d7040 state=finished returned NoneType>, <Future at 0x22f2e0f7040 state=finished raised AttributeError>, <Future at 0x22f2b167100 state=finished returned NoneType>, <Future at 0x22f2c7d7160 state=finished returned NoneType>, <Future at 0x22f2e0f7160 state=finished returned NoneType>, <Future at 0x22f2b1671f0 state=finished returned NoneType>, <Future at 0x22f2c7d7280 state=finished returned NoneType>, <Future at 0x22f2e0f7280 state=finished returned NoneType>, <Future at 0x22f2b1672e0 state=finished returned NoneType>, <Future at 0x22f2c7d73a0 state=finished returned NoneType>, <Future at 0x22f2e0f73a0 state=finished returned NoneType>, <Future at 0x22f2b1673d0 state=finished returned NoneType>, <Future at 0x22f2cb5f4c0 state=finished returned NoneType>, <Future at 0x22f2b1674c0 state=finished returned NoneType>, <Future at 0x22f2c7d74c0 state=finished returned NoneType>, <Future at 0x22f2e0f74c0 state=finished returned NoneType>, <Future at 0x22f2b1675b0 state=finished returned NoneType>, <Future at 0x22f2c7d75e0 state=finished returned NoneType>, <Future at 0x22f2b1676a0 state=finished returned NoneType>, <Future at 0x22f2c7d7700 state=finished returned NoneType>, <Future at 0x22f2b167790 state=finished returned NoneType>, <Future at 0x22f2c7d7820 state=finished returned NoneType>, <Future at 0x22f2b167880 state=finished returned NoneType>, <Future at 0x22f2c7d7940 state=finished returned NoneType>, <Future at 0x22f2b167970 state=finished returned NoneType>, <Future at 0x22f2b167a60 state=finished returned NoneType>, <Future at 0x22f2c7d7a60 state=finished returned NoneType>, <Future at 0x22f2b167b50 state=finished returned NoneType>, <Future at 0x22f2c7d7b80 state=finished returned NoneType>, <Future at 0x22f2b167c40 state=finished returned NoneType>, <Future at 0x22f2c7d7ca0 state=finished returned NoneType>, <Future at 0x22f2b167d30 state=finished returned NoneType>, <Future at 0x22f2c7d7dc0 state=finished returned NoneType>, <Future at 0x22f2b167e20 state=finished returned NoneType>, <Future at 0x22f2c7d7ee0 state=finished returned NoneType>, <Future at 0x22f2b167f10 state=finished returned NoneType>}, not_done=set())"
      ]
     },
     "execution_count": 2,
     "metadata": {},
     "output_type": "execute_result"
    },
    {
     "name": "stdout",
     "output_type": "stream",
     "text": [
      "Data saved to goodjob_salary.xlsx\n"
     ]
    }
   ],
   "source": [
    "import requests\n",
    "from bs4 import BeautifulSoup\n",
    "from tqdm import tqdm\n",
    "import pandas as pd\n",
    "import concurrent.futures\n",
    "\n",
    " # Create an empty list to store the scraped data\n",
    "data = []\n",
    " # Specify the URL of the page to scrape\n",
    "base_url = \"https://www.goodjob.life/salary-work-times/latest?p=\"\n",
    " # Function to scrape a single page\n",
    "def scrape_page(page):\n",
    "    url = base_url + str(page)\n",
    "     # Send a GET request to the URL and store the response\n",
    "    response = requests.get(url, headers={\"User-Agent\": \"Mozilla/5.0\"})\n",
    "     # Parse the HTML content of the response using BeautifulSoup\n",
    "    soup = BeautifulSoup(response.content, \"html.parser\")\n",
    "     # Find the table element containing the data\n",
    "    table = soup.find(\"table\")\n",
    "     # Find the rows of the table\n",
    "    rows = table.find_all(\"tr\")\n",
    "     # Loop through the rows and extract the data\n",
    "    for row in rows[1:]:\n",
    "        # Extract the columns of the row\n",
    "        columns = row.find_all(\"td\")\n",
    "         # Extract the data from the columns\n",
    "        company = columns[0].text.strip()\n",
    "        job_title = columns[1].text.strip()\n",
    "        work_time = columns[2].text.strip()\n",
    "        overtime = columns[3].text.strip()\n",
    "        salary = columns[4].text.strip()\n",
    "        wage = columns[5].text.strip()\n",
    "        time = columns[6].text.strip()\n",
    "         # Append the data to the list\n",
    "        data.append({\n",
    "            \"公司名稱\": company,\n",
    "            \"職稱\": job_title,\n",
    "            \"週工時\": work_time,\n",
    "            \"加班頻率\": overtime,\n",
    "            \"薪資\": salary,\n",
    "            \"時薪\": wage,\n",
    "            \"參考時間\": time\n",
    "        })\n",
    " # Number of pages to scrape\n",
    "pages = 454\n",
    " # Scrape pages asynchronously using ThreadPoolExecutor\n",
    "with concurrent.futures.ThreadPoolExecutor() as executor:\n",
    "    # Submit scraping tasks for each page\n",
    "    futures = [executor.submit(scrape_page, page) for page in range(1, pages+1)]\n",
    "     # Wait for all tasks to complete\n",
    "    concurrent.futures.wait(futures)\n",
    " # Create a DataFrame from the collected data\n",
    "data_df = pd.DataFrame(data)\n",
    " # Save the DataFrame\n",
    "data_df.to_excel(\"goodjob_salary.xlsx\", index=False)\n",
    "print(\"Data saved to goodjob_salary.xlsx\")\n",
    "\n",
    "# 須爬取1分20秒，有遺漏資訊"
   ]
  },
  {
   "cell_type": "code",
   "execution_count": null,
   "metadata": {},
   "outputs": [],
   "source": []
  }
 ],
 "metadata": {
  "kernelspec": {
   "display_name": "base",
   "language": "python",
   "name": "python3"
  },
  "language_info": {
   "codemirror_mode": {
    "name": "ipython",
    "version": 3
   },
   "file_extension": ".py",
   "mimetype": "text/x-python",
   "name": "python",
   "nbconvert_exporter": "python",
   "pygments_lexer": "ipython3",
   "version": "3.9.7"
  },
  "orig_nbformat": 4
 },
 "nbformat": 4,
 "nbformat_minor": 2
}
